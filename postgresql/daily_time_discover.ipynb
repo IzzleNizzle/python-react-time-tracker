{
 "cells": [
  {
   "cell_type": "code",
   "execution_count": null,
   "metadata": {},
   "outputs": [],
   "source": [
    "import pandas as pd"
   ]
  },
  {
   "cell_type": "code",
   "execution_count": null,
   "metadata": {},
   "outputs": [],
   "source": [
    "daily_df = pd.read_csv('./daily_time.csv')\n",
    "daily_df"
   ]
  },
  {
   "cell_type": "code",
   "execution_count": null,
   "metadata": {},
   "outputs": [],
   "source": [
    "def date_to_est(df):\n",
    "    df[\"date\"] = pd.to_datetime(df[\"date\"])\n",
    "    df[\"date\"] = df[\"date\"].dt.tz_convert(\"US/Eastern\")\n",
    "    df[\"date\"] = df[\"date\"].dt.strftime(\"%Y-%m-%d %H:%M:%S\")\n",
    "    return df"
   ]
  },
  {
   "cell_type": "code",
   "execution_count": 7,
   "metadata": {},
   "outputs": [
    {
     "data": {
      "text/html": [
       "<div>\n",
       "<style scoped>\n",
       "    .dataframe tbody tr th:only-of-type {\n",
       "        vertical-align: middle;\n",
       "    }\n",
       "\n",
       "    .dataframe tbody tr th {\n",
       "        vertical-align: top;\n",
       "    }\n",
       "\n",
       "    .dataframe thead th {\n",
       "        text-align: right;\n",
       "    }\n",
       "</style>\n",
       "<table border=\"1\" class=\"dataframe\">\n",
       "  <thead>\n",
       "    <tr style=\"text-align: right;\">\n",
       "      <th></th>\n",
       "      <th>activity</th>\n",
       "      <th>count</th>\n",
       "      <th>date</th>\n",
       "    </tr>\n",
       "  </thead>\n",
       "  <tbody>\n",
       "    <tr>\n",
       "      <th>0</th>\n",
       "      <td>game</td>\n",
       "      <td>2454</td>\n",
       "      <td>2023-08-05 19:06:42</td>\n",
       "    </tr>\n",
       "    <tr>\n",
       "      <th>1</th>\n",
       "      <td>NaN</td>\n",
       "      <td>3806</td>\n",
       "      <td>2023-01-30 01:05:23</td>\n",
       "    </tr>\n",
       "    <tr>\n",
       "      <th>2</th>\n",
       "      <td>code</td>\n",
       "      <td>5658</td>\n",
       "      <td>2023-01-30 01:16:53</td>\n",
       "    </tr>\n",
       "    <tr>\n",
       "      <th>3</th>\n",
       "      <td>break</td>\n",
       "      <td>196</td>\n",
       "      <td>2023-01-30 00:19:46</td>\n",
       "    </tr>\n",
       "    <tr>\n",
       "      <th>4</th>\n",
       "      <td>game</td>\n",
       "      <td>3313</td>\n",
       "      <td>2023-01-29 17:59:18</td>\n",
       "    </tr>\n",
       "    <tr>\n",
       "      <th>5</th>\n",
       "      <td>NaN</td>\n",
       "      <td>1179</td>\n",
       "      <td>2023-01-29 18:56:17</td>\n",
       "    </tr>\n",
       "    <tr>\n",
       "      <th>6</th>\n",
       "      <td>code</td>\n",
       "      <td>3021</td>\n",
       "      <td>2023-01-29 18:20:29</td>\n",
       "    </tr>\n",
       "    <tr>\n",
       "      <th>7</th>\n",
       "      <td>break</td>\n",
       "      <td>1065</td>\n",
       "      <td>2023-01-29 17:32:40</td>\n",
       "    </tr>\n",
       "    <tr>\n",
       "      <th>8</th>\n",
       "      <td>code</td>\n",
       "      <td>2718</td>\n",
       "      <td>2023-01-28 02:40:47</td>\n",
       "    </tr>\n",
       "    <tr>\n",
       "      <th>9</th>\n",
       "      <td>learn</td>\n",
       "      <td>621</td>\n",
       "      <td>2023-01-28 01:55:20</td>\n",
       "    </tr>\n",
       "    <tr>\n",
       "      <th>10</th>\n",
       "      <td>NaN</td>\n",
       "      <td>112</td>\n",
       "      <td>2023-01-28 02:37:32</td>\n",
       "    </tr>\n",
       "    <tr>\n",
       "      <th>11</th>\n",
       "      <td>break</td>\n",
       "      <td>5482</td>\n",
       "      <td>2023-01-28 02:41:00</td>\n",
       "    </tr>\n",
       "    <tr>\n",
       "      <th>12</th>\n",
       "      <td>game</td>\n",
       "      <td>12172</td>\n",
       "      <td>2023-01-27 15:32:44</td>\n",
       "    </tr>\n",
       "    <tr>\n",
       "      <th>13</th>\n",
       "      <td>learn</td>\n",
       "      <td>1841</td>\n",
       "      <td>2023-01-26 20:31:26</td>\n",
       "    </tr>\n",
       "    <tr>\n",
       "      <th>14</th>\n",
       "      <td>break</td>\n",
       "      <td>12253</td>\n",
       "      <td>2023-01-27 18:59:59</td>\n",
       "    </tr>\n",
       "    <tr>\n",
       "      <th>15</th>\n",
       "      <td>NaN</td>\n",
       "      <td>279</td>\n",
       "      <td>2023-01-27 14:14:56</td>\n",
       "    </tr>\n",
       "    <tr>\n",
       "      <th>16</th>\n",
       "      <td>code</td>\n",
       "      <td>12393</td>\n",
       "      <td>2023-01-27 16:06:10</td>\n",
       "    </tr>\n",
       "    <tr>\n",
       "      <th>17</th>\n",
       "      <td>NaN</td>\n",
       "      <td>536</td>\n",
       "      <td>2023-01-26 04:05:19</td>\n",
       "    </tr>\n",
       "    <tr>\n",
       "      <th>18</th>\n",
       "      <td>learn</td>\n",
       "      <td>1741</td>\n",
       "      <td>2023-01-25 23:41:10</td>\n",
       "    </tr>\n",
       "    <tr>\n",
       "      <th>19</th>\n",
       "      <td>code</td>\n",
       "      <td>6633</td>\n",
       "      <td>2023-01-26 18:05:18</td>\n",
       "    </tr>\n",
       "    <tr>\n",
       "      <th>20</th>\n",
       "      <td>break</td>\n",
       "      <td>9469</td>\n",
       "      <td>2023-01-26 18:59:59</td>\n",
       "    </tr>\n",
       "    <tr>\n",
       "      <th>21</th>\n",
       "      <td>game</td>\n",
       "      <td>4688</td>\n",
       "      <td>2023-01-26 03:12:01</td>\n",
       "    </tr>\n",
       "    <tr>\n",
       "      <th>22</th>\n",
       "      <td>game</td>\n",
       "      <td>8712</td>\n",
       "      <td>2023-01-24 23:45:52</td>\n",
       "    </tr>\n",
       "    <tr>\n",
       "      <th>23</th>\n",
       "      <td>break</td>\n",
       "      <td>2995</td>\n",
       "      <td>2023-01-24 23:45:55</td>\n",
       "    </tr>\n",
       "    <tr>\n",
       "      <th>24</th>\n",
       "      <td>code</td>\n",
       "      <td>5435</td>\n",
       "      <td>2023-01-24 23:08:56</td>\n",
       "    </tr>\n",
       "    <tr>\n",
       "      <th>25</th>\n",
       "      <td>meeting</td>\n",
       "      <td>1763</td>\n",
       "      <td>2023-01-25 18:18:40</td>\n",
       "    </tr>\n",
       "    <tr>\n",
       "      <th>26</th>\n",
       "      <td>NaN</td>\n",
       "      <td>2004</td>\n",
       "      <td>2023-01-25 16:01:48</td>\n",
       "    </tr>\n",
       "    <tr>\n",
       "      <th>27</th>\n",
       "      <td>code</td>\n",
       "      <td>7891</td>\n",
       "      <td>2023-01-24 18:25:45</td>\n",
       "    </tr>\n",
       "    <tr>\n",
       "      <th>28</th>\n",
       "      <td>break</td>\n",
       "      <td>4266</td>\n",
       "      <td>2023-01-24 18:45:25</td>\n",
       "    </tr>\n",
       "    <tr>\n",
       "      <th>29</th>\n",
       "      <td>learn</td>\n",
       "      <td>3859</td>\n",
       "      <td>2023-01-23 22:54:51</td>\n",
       "    </tr>\n",
       "    <tr>\n",
       "      <th>30</th>\n",
       "      <td>meeting</td>\n",
       "      <td>6639</td>\n",
       "      <td>2023-01-24 14:44:26</td>\n",
       "    </tr>\n",
       "    <tr>\n",
       "      <th>31</th>\n",
       "      <td>game</td>\n",
       "      <td>9551</td>\n",
       "      <td>2023-01-24 18:59:59</td>\n",
       "    </tr>\n",
       "  </tbody>\n",
       "</table>\n",
       "</div>"
      ],
      "text/plain": [
       "   activity  count                 date\n",
       "0      game   2454  2023-08-05 19:06:42\n",
       "1       NaN   3806  2023-01-30 01:05:23\n",
       "2      code   5658  2023-01-30 01:16:53\n",
       "3     break    196  2023-01-30 00:19:46\n",
       "4      game   3313  2023-01-29 17:59:18\n",
       "5       NaN   1179  2023-01-29 18:56:17\n",
       "6      code   3021  2023-01-29 18:20:29\n",
       "7     break   1065  2023-01-29 17:32:40\n",
       "8      code   2718  2023-01-28 02:40:47\n",
       "9     learn    621  2023-01-28 01:55:20\n",
       "10      NaN    112  2023-01-28 02:37:32\n",
       "11    break   5482  2023-01-28 02:41:00\n",
       "12     game  12172  2023-01-27 15:32:44\n",
       "13    learn   1841  2023-01-26 20:31:26\n",
       "14    break  12253  2023-01-27 18:59:59\n",
       "15      NaN    279  2023-01-27 14:14:56\n",
       "16     code  12393  2023-01-27 16:06:10\n",
       "17      NaN    536  2023-01-26 04:05:19\n",
       "18    learn   1741  2023-01-25 23:41:10\n",
       "19     code   6633  2023-01-26 18:05:18\n",
       "20    break   9469  2023-01-26 18:59:59\n",
       "21     game   4688  2023-01-26 03:12:01\n",
       "22     game   8712  2023-01-24 23:45:52\n",
       "23    break   2995  2023-01-24 23:45:55\n",
       "24     code   5435  2023-01-24 23:08:56\n",
       "25  meeting   1763  2023-01-25 18:18:40\n",
       "26      NaN   2004  2023-01-25 16:01:48\n",
       "27     code   7891  2023-01-24 18:25:45\n",
       "28    break   4266  2023-01-24 18:45:25\n",
       "29    learn   3859  2023-01-23 22:54:51\n",
       "30  meeting   6639  2023-01-24 14:44:26\n",
       "31     game   9551  2023-01-24 18:59:59"
      ]
     },
     "execution_count": 7,
     "metadata": {},
     "output_type": "execute_result"
    }
   ],
   "source": [
    "date_to_est(daily_df)"
   ]
  },
  {
   "cell_type": "code",
   "execution_count": null,
   "metadata": {},
   "outputs": [],
   "source": [
    "dates = pd.to_datetime(daily_df['date']).dt.strftime('%y-%m-%d')"
   ]
  },
  {
   "cell_type": "code",
   "execution_count": null,
   "metadata": {},
   "outputs": [],
   "source": [
    "daily_df['activity'] = daily_df['activity'].fillna('')"
   ]
  },
  {
   "cell_type": "code",
   "execution_count": null,
   "metadata": {},
   "outputs": [],
   "source": [
    "weekday_series = pd.to_datetime(daily_df['date']).dt.strftime('%A')"
   ]
  },
  {
   "cell_type": "code",
   "execution_count": null,
   "metadata": {},
   "outputs": [],
   "source": [
    "daily_df['weekday'] = weekday_series\n",
    "daily_df"
   ]
  },
  {
   "cell_type": "code",
   "execution_count": null,
   "metadata": {},
   "outputs": [],
   "source": [
    "test_df = (daily_df\n",
    "   .rename(dates)\n",
    ")"
   ]
  },
  {
   "cell_type": "code",
   "execution_count": null,
   "metadata": {},
   "outputs": [],
   "source": [
    "test_df"
   ]
  },
  {
   "cell_type": "code",
   "execution_count": null,
   "metadata": {},
   "outputs": [],
   "source": [
    "test_df = test_df.sort_values('date')\n",
    "result = test_df.pivot_table(index='activity', columns='weekday', values='count', fill_value=0, sort=False)\n",
    "result"
   ]
  },
  {
   "cell_type": "code",
   "execution_count": null,
   "metadata": {},
   "outputs": [],
   "source": [
    "result.loc['break']"
   ]
  },
  {
   "cell_type": "code",
   "execution_count": null,
   "metadata": {},
   "outputs": [],
   "source": [
    "result.loc['break'].values"
   ]
  },
  {
   "cell_type": "code",
   "execution_count": null,
   "metadata": {},
   "outputs": [],
   "source": [
    "result.columns"
   ]
  },
  {
   "cell_type": "code",
   "execution_count": null,
   "metadata": {},
   "outputs": [],
   "source": [
    "result.index"
   ]
  },
  {
   "cell_type": "code",
   "execution_count": null,
   "metadata": {},
   "outputs": [],
   "source": [
    "result.values"
   ]
  },
  {
   "cell_type": "code",
   "execution_count": null,
   "metadata": {},
   "outputs": [],
   "source": [
    "better_response = {\n",
    "    \"headers\": result.columns,\n",
    "    \"index\": result.index,\n",
    "    \"values\": result.values,\n",
    "}\n",
    "better_response"
   ]
  },
  {
   "cell_type": "code",
   "execution_count": null,
   "metadata": {},
   "outputs": [],
   "source": [
    "result.to_json()"
   ]
  }
 ],
 "metadata": {
  "kernelspec": {
   "display_name": "Python 3",
   "language": "python",
   "name": "python3"
  },
  "language_info": {
   "codemirror_mode": {
    "name": "ipython",
    "version": 3
   },
   "file_extension": ".py",
   "mimetype": "text/x-python",
   "name": "python",
   "nbconvert_exporter": "python",
   "pygments_lexer": "ipython3",
   "version": "3.11.3"
  },
  "orig_nbformat": 4,
  "vscode": {
   "interpreter": {
    "hash": "eb4a0ac80907d7f44e1a5e88d3d3381b33e3dbedd3a24d113e876f30a0c46bee"
   }
  }
 },
 "nbformat": 4,
 "nbformat_minor": 2
}
