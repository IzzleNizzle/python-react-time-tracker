{
 "cells": [
  {
   "cell_type": "code",
   "execution_count": 2,
   "metadata": {},
   "outputs": [],
   "source": [
    "import pandas as pd\n",
    "from datetime import datetime, timedelta\n"
   ]
  },
  {
   "cell_type": "code",
   "execution_count": 3,
   "metadata": {},
   "outputs": [
    {
     "data": {
      "text/plain": [
       "datetime.date(2024, 2, 14)"
      ]
     },
     "execution_count": 3,
     "metadata": {},
     "output_type": "execute_result"
    }
   ],
   "source": [
    "# what does this look like?\n",
    "current_date = datetime.now().date()\n",
    "start_date = current_date - timedelta(days=30)\n",
    "start_date"
   ]
  },
  {
   "cell_type": "code",
   "execution_count": 5,
   "metadata": {},
   "outputs": [
    {
     "data": {
      "text/html": [
       "<div>\n",
       "<style scoped>\n",
       "    .dataframe tbody tr th:only-of-type {\n",
       "        vertical-align: middle;\n",
       "    }\n",
       "\n",
       "    .dataframe tbody tr th {\n",
       "        vertical-align: top;\n",
       "    }\n",
       "\n",
       "    .dataframe thead th {\n",
       "        text-align: right;\n",
       "    }\n",
       "</style>\n",
       "<table border=\"1\" class=\"dataframe\">\n",
       "  <thead>\n",
       "    <tr style=\"text-align: right;\">\n",
       "      <th></th>\n",
       "      <th>id</th>\n",
       "      <th>date</th>\n",
       "      <th>activity</th>\n",
       "      <th>cognito_uuid</th>\n",
       "    </tr>\n",
       "  </thead>\n",
       "  <tbody>\n",
       "    <tr>\n",
       "      <th>0</th>\n",
       "      <td>6516546</td>\n",
       "      <td>2024-02-09 03:07:54.578573+00</td>\n",
       "      <td>Coding</td>\n",
       "      <td>daa38dbb-ee91-4898-b48d-61031c5965ed</td>\n",
       "    </tr>\n",
       "    <tr>\n",
       "      <th>1</th>\n",
       "      <td>6516547</td>\n",
       "      <td>2024-02-09 03:07:55.577893+00</td>\n",
       "      <td>Coding</td>\n",
       "      <td>daa38dbb-ee91-4898-b48d-61031c5965ed</td>\n",
       "    </tr>\n",
       "    <tr>\n",
       "      <th>2</th>\n",
       "      <td>6516548</td>\n",
       "      <td>2024-02-09 03:07:56.575472+00</td>\n",
       "      <td>Coding</td>\n",
       "      <td>daa38dbb-ee91-4898-b48d-61031c5965ed</td>\n",
       "    </tr>\n",
       "    <tr>\n",
       "      <th>3</th>\n",
       "      <td>6516549</td>\n",
       "      <td>2024-02-09 03:07:57.586807+00</td>\n",
       "      <td>Coding</td>\n",
       "      <td>daa38dbb-ee91-4898-b48d-61031c5965ed</td>\n",
       "    </tr>\n",
       "    <tr>\n",
       "      <th>4</th>\n",
       "      <td>6516550</td>\n",
       "      <td>2024-02-09 03:07:58.586219+00</td>\n",
       "      <td>Coding</td>\n",
       "      <td>daa38dbb-ee91-4898-b48d-61031c5965ed</td>\n",
       "    </tr>\n",
       "    <tr>\n",
       "      <th>...</th>\n",
       "      <td>...</td>\n",
       "      <td>...</td>\n",
       "      <td>...</td>\n",
       "      <td>...</td>\n",
       "    </tr>\n",
       "    <tr>\n",
       "      <th>1321182</th>\n",
       "      <td>6516541</td>\n",
       "      <td>2024-02-09 03:07:49.580254+00</td>\n",
       "      <td>Coding</td>\n",
       "      <td>daa38dbb-ee91-4898-b48d-61031c5965ed</td>\n",
       "    </tr>\n",
       "    <tr>\n",
       "      <th>1321183</th>\n",
       "      <td>6516542</td>\n",
       "      <td>2024-02-09 03:07:50.582134+00</td>\n",
       "      <td>Coding</td>\n",
       "      <td>daa38dbb-ee91-4898-b48d-61031c5965ed</td>\n",
       "    </tr>\n",
       "    <tr>\n",
       "      <th>1321184</th>\n",
       "      <td>6516543</td>\n",
       "      <td>2024-02-09 03:07:51.578683+00</td>\n",
       "      <td>Coding</td>\n",
       "      <td>daa38dbb-ee91-4898-b48d-61031c5965ed</td>\n",
       "    </tr>\n",
       "    <tr>\n",
       "      <th>1321185</th>\n",
       "      <td>6516544</td>\n",
       "      <td>2024-02-09 03:07:52.57544+00</td>\n",
       "      <td>Coding</td>\n",
       "      <td>daa38dbb-ee91-4898-b48d-61031c5965ed</td>\n",
       "    </tr>\n",
       "    <tr>\n",
       "      <th>1321186</th>\n",
       "      <td>6516545</td>\n",
       "      <td>2024-02-09 03:07:53.579719+00</td>\n",
       "      <td>Coding</td>\n",
       "      <td>daa38dbb-ee91-4898-b48d-61031c5965ed</td>\n",
       "    </tr>\n",
       "  </tbody>\n",
       "</table>\n",
       "<p>1321187 rows × 4 columns</p>\n",
       "</div>"
      ],
      "text/plain": [
       "              id                           date activity  \\\n",
       "0        6516546  2024-02-09 03:07:54.578573+00   Coding   \n",
       "1        6516547  2024-02-09 03:07:55.577893+00   Coding   \n",
       "2        6516548  2024-02-09 03:07:56.575472+00   Coding   \n",
       "3        6516549  2024-02-09 03:07:57.586807+00   Coding   \n",
       "4        6516550  2024-02-09 03:07:58.586219+00   Coding   \n",
       "...          ...                            ...      ...   \n",
       "1321182  6516541  2024-02-09 03:07:49.580254+00   Coding   \n",
       "1321183  6516542  2024-02-09 03:07:50.582134+00   Coding   \n",
       "1321184  6516543  2024-02-09 03:07:51.578683+00   Coding   \n",
       "1321185  6516544   2024-02-09 03:07:52.57544+00   Coding   \n",
       "1321186  6516545  2024-02-09 03:07:53.579719+00   Coding   \n",
       "\n",
       "                                 cognito_uuid  \n",
       "0        daa38dbb-ee91-4898-b48d-61031c5965ed  \n",
       "1        daa38dbb-ee91-4898-b48d-61031c5965ed  \n",
       "2        daa38dbb-ee91-4898-b48d-61031c5965ed  \n",
       "3        daa38dbb-ee91-4898-b48d-61031c5965ed  \n",
       "4        daa38dbb-ee91-4898-b48d-61031c5965ed  \n",
       "...                                       ...  \n",
       "1321182  daa38dbb-ee91-4898-b48d-61031c5965ed  \n",
       "1321183  daa38dbb-ee91-4898-b48d-61031c5965ed  \n",
       "1321184  daa38dbb-ee91-4898-b48d-61031c5965ed  \n",
       "1321185  daa38dbb-ee91-4898-b48d-61031c5965ed  \n",
       "1321186  daa38dbb-ee91-4898-b48d-61031c5965ed  \n",
       "\n",
       "[1321187 rows x 4 columns]"
      ]
     },
     "execution_count": 5,
     "metadata": {},
     "output_type": "execute_result"
    }
   ],
   "source": [
    "daily_df = pd.read_csv('./session_pull.csv')\n",
    "daily_df"
   ]
  },
  {
   "cell_type": "code",
   "execution_count": 7,
   "metadata": {},
   "outputs": [
    {
     "data": {
      "text/plain": [
       "0          2024-02-09 03:07:54.578573+00\n",
       "1          2024-02-09 03:07:55.577893+00\n",
       "2          2024-02-09 03:07:56.575472+00\n",
       "3          2024-02-09 03:07:57.586807+00\n",
       "4          2024-02-09 03:07:58.586219+00\n",
       "                       ...              \n",
       "1321182    2024-02-09 03:07:49.580254+00\n",
       "1321183    2024-02-09 03:07:50.582134+00\n",
       "1321184    2024-02-09 03:07:51.578683+00\n",
       "1321185     2024-02-09 03:07:52.57544+00\n",
       "1321186    2024-02-09 03:07:53.579719+00\n",
       "Name: date, Length: 1321187, dtype: object"
      ]
     },
     "execution_count": 7,
     "metadata": {},
     "output_type": "execute_result"
    }
   ],
   "source": [
    "daily_df['date']"
   ]
  }
 ],
 "metadata": {
  "kernelspec": {
   "display_name": "Python 3",
   "language": "python",
   "name": "python3"
  },
  "language_info": {
   "codemirror_mode": {
    "name": "ipython",
    "version": 3
   },
   "file_extension": ".py",
   "mimetype": "text/x-python",
   "name": "python",
   "nbconvert_exporter": "python",
   "pygments_lexer": "ipython3",
   "version": "3.11.8"
  },
  "orig_nbformat": 4,
  "vscode": {
   "interpreter": {
    "hash": "eb4a0ac80907d7f44e1a5e88d3d3381b33e3dbedd3a24d113e876f30a0c46bee"
   }
  }
 },
 "nbformat": 4,
 "nbformat_minor": 2
}
